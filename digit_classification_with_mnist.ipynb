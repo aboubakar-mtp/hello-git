{
  "nbformat": 4,
  "nbformat_minor": 0,
  "metadata": {
    "colab": {
      "name": "digit_classification_with_mnist.ipynb",
      "version": "0.3.2",
      "provenance": [],
      "collapsed_sections": [],
      "include_colab_link": true
    },
    "kernelspec": {
      "name": "python3",
      "display_name": "Python 3"
    }
  },
  "cells": [
    {
      "cell_type": "markdown",
      "metadata": {
        "id": "view-in-github",
        "colab_type": "text"
      },
      "source": [
        "<a href=\"https://colab.research.google.com/github/aboubakar-mtp/hello-git/blob/master/digit_classification_with_mnist.ipynb\" target=\"_parent\"><img src=\"https://colab.research.google.com/assets/colab-badge.svg\" alt=\"Open In Colab\"/></a>"
      ]
    },
    {
      "metadata": {
        "id": "JrS1MNaIaSvl",
        "colab_type": "code",
        "colab": {}
      },
      "cell_type": "code",
      "source": [
        "##### Training a simple CNN on the MNIST dataset #####\n",
        "### Adapted from Keras Tutorials by Francois Chollet ###\n",
        "\n",
        "# All the modules and libraries that would be needed to successfully run this notebook\n",
        "\n",
        "import keras\n",
        "from keras.datasets import mnist\n",
        "from keras.utils import np_utils\n",
        "from keras.models import Sequential\n",
        "from keras.layers.convolutional import Conv2D, MaxPooling2D\n",
        "from keras.layers import Flatten, Dense, Dropout\n",
        "import numpy as np\n",
        "import matplotlib.pyplot as plt"
      ],
      "execution_count": 0,
      "outputs": []
    },
    {
      "metadata": {
        "id": "tCWXrPfVbRlg",
        "colab_type": "code",
        "colab": {}
      },
      "cell_type": "code",
      "source": [
        "# READ THE DATA: The load_data() method is pre-defined in Keras and is used in loading the datasets native to Keras.\n",
        "# Reference: https://www.tensorflow.org/code/stable/tensorflow/python/keras/datasets/mnist.py\n",
        "(x_train, y_train), (x_test, y_test) = mnist.load_data()"
      ],
      "execution_count": 0,
      "outputs": []
    },
    {
      "metadata": {
        "id": "Rjdf-zxzu9HV",
        "colab_type": "code",
        "colab": {
          "base_uri": "https://localhost:8080/",
          "height": 119
        },
        "outputId": "da8cd430-65d6-41d6-d980-660abd554982"
      },
      "cell_type": "code",
      "source": [
        "# Statistics about the training and testing dataset that was read in the last step\n",
        "print(\"Number of images in training = \" + str(x_train.shape[0]))\n",
        "print(\"x_train Examples Loaded = \" + str(x_train.shape))\n",
        "print(\"y_train Examples Loaded = \" + str(y_train.shape))\n",
        "\n",
        "print(\"Number of images in test = \" + str(x_test.shape[0]))\n",
        "print(\"x_test Examples Loaded = \" + str(x_test.shape))\n",
        "print(\"y_test Examples Loaded = \" + str(y_test.shape))"
      ],
      "execution_count": 12,
      "outputs": [
        {
          "output_type": "stream",
          "text": [
            "Number of images in training = 60000\n",
            "x_train Examples Loaded = (60000, 28, 28)\n",
            "y_train Examples Loaded = (60000,)\n",
            "Number of images in test = 10000\n",
            "x_test Examples Loaded = (10000, 28, 28)\n",
            "y_test Examples Loaded = (10000,)\n"
          ],
          "name": "stdout"
        }
      ]
    },
    {
      "metadata": {
        "id": "HxW-LCA4b2bj",
        "colab_type": "code",
        "colab": {
          "base_uri": "https://localhost:8080/",
          "height": 348
        },
        "outputId": "0c1df94d-a63d-4c01-ede0-2248d7d80d2d"
      },
      "cell_type": "code",
      "source": [
        "# Visualizing some of the images in the dataset\n",
        "plt.subplot(221)\n",
        "plt.imshow(x_train[100], cmap=plt.get_cmap('gray'))\n",
        "plt.subplot(222)\n",
        "plt.imshow(x_train[250], cmap=plt.get_cmap('gray'))\n",
        "plt.subplot(223)\n",
        "plt.imshow(x_train[500], cmap=plt.get_cmap('gray'))\n",
        "plt.subplot(224)\n",
        "plt.imshow(x_train[750], cmap=plt.get_cmap('gray'))\n",
        "\n",
        "plt.show()"
      ],
      "execution_count": 13,
      "outputs": [
        {
          "output_type": "display_data",
          "data": {
            "image/png": "[encoded data removed]",
            "text/plain": [
              "<matplotlib.figure.Figure at 0x7f054cead390>"
            ]
          },
          "metadata": {
            "tags": []
          }
        }
      ]
    },
    {
      "metadata": {
        "id": "rPtqGvBDiogQ",
        "colab_type": "text"
      },
      "cell_type": "markdown",
      "source": [
        "Reshape the images to use them to train a CNN\n",
        "\n",
        "Two-dimensional convolutional layers require pixel values with the dimensions as [pixels][width][height]\n",
        "\n",
        "> For RGB images, the first dimension pixels would be 3 for the R,G and B components => 3 image inputs for every color image.\n",
        "\n",
        "> For MNIST's grayscale images, the pixel dimension is set to 1.\n",
        "\n",
        "\n",
        "\n",
        "\n",
        "\n",
        "\n",
        "\n"
      ]
    },
    {
      "metadata": {
        "id": "PHRRy_GRinli",
        "colab_type": "code",
        "colab": {
          "base_uri": "https://localhost:8080/",
          "height": 170
        },
        "outputId": "6baaea20-741c-4d58-9fec-844a05ae9341"
      },
      "cell_type": "code",
      "source": [
        "# image_data_format: setting in keras.json that specifies which data format convention Keras will follow.\n",
        "# Can take on value \"channels_last\" or \"channels_first\"\n",
        "# For 2D data (e.g. image), \"channels_last\" assumes (rows, cols, channels) while \"channels_first\" assumes  (channels, rows, cols).\n",
        "# For 3D data, \"channels_last\" assumes (conv_dim1, conv_dim2, conv_dim3, channels) while  \"channels_first\" assumes (channels, conv_dim1, conv_dim2, conv_dim3).\n",
        "# K.set_image_dim_ordering('th')  -- previously until Python 3.5\n",
        "from keras import backend as K\n",
        "if K.image_data_format() == 'channels_last':\n",
        "  x_train = x_train.reshape(x_train.shape[0], 28, 28, 1).astype('float32')\n",
        "  x_test = x_test.reshape(x_test.shape[0], 28, 28, 1).astype('float32')\n",
        "else:\n",
        "  x_train = x_train.reshape(x_train.shape[0], 1, 28, 28).astype('float32')\n",
        "  x_test = x_test.reshape(x_test.shape[0], 1, 28, 28).astype('float32')\n",
        "\n",
        "\n",
        "# Normalize the data inputs (from 0-255 to 0-1)\n",
        "''' YOUR CODE GOES HERE '''\n",
        "x_train = x_train/255\n",
        "x_test = x_test/255\n",
        "\n",
        "# Convert class vectors to binary class matrices\n",
        "''' YOUR CODE GOES HERE '''\n",
        "\n",
        "y_train = np_utils.to_categorical(y_train)\n",
        "y_test = np_utils.to_categorical(y_test)\n",
        "\n",
        "num_classes = y_test.shape[1]\n",
        "\n",
        "print(\"Number of classes = \" + str(num_classes))\n",
        "\n",
        "print(y_train)\n",
        "print(y_test.shape)\n"
      ],
      "execution_count": 14,
      "outputs": [
        {
          "output_type": "stream",
          "text": [
            "Number of classes = 10\n",
            "[[0. 0. 0. ... 0. 0. 0.]\n",
            " [1. 0. 0. ... 0. 0. 0.]\n",
            " [0. 0. 0. ... 0. 0. 0.]\n",
            " ...\n",
            " [0. 0. 0. ... 0. 0. 0.]\n",
            " [0. 0. 0. ... 0. 0. 0.]\n",
            " [0. 0. 0. ... 0. 1. 0.]]\n",
            "(10000, 10)\n"
          ],
          "name": "stdout"
        }
      ]
    },
    {
      "metadata": {
        "id": "FihyzQNonUmp",
        "colab_type": "text"
      },
      "cell_type": "markdown",
      "source": [
        "Building the model..."
      ]
    },
    {
      "metadata": {
        "id": "_RV6yynOnUMb",
        "colab_type": "code",
        "colab": {
          "base_uri": "https://localhost:8080/",
          "height": 656
        },
        "outputId": "0ed34d0f-524b-4c9e-db49-0c3f53f3d3b3"
      },
      "cell_type": "code",
      "source": [
        "# Build the ConvNet model\n",
        "\n",
        "''' YOUR CODE GOES HERE '''\n",
        "\n",
        "BATCH_SIZE = 200\n",
        "EPOCHS  = 10\n",
        "\n",
        "model = Sequential()\n",
        "model.add(Conv2D(32, kernel_size=(5,5), input_shape=(28, 28,1), activation='relu'))\n",
        "model.add(Conv2D(64, kernel_size=(5,5), activation='relu'))\n",
        "model.add(MaxPooling2D(pool_size=(2, 2)))\n",
        "model.add(Dropout(0.2))\n",
        "model.add(Flatten())\n",
        "model.add(Dense(128, activation='relu'))\n",
        "model.add(Dense(num_classes, activation='softmax'))\n",
        "\n",
        "model.compile(optimizer='adam', loss='categorical_crossentropy', metrics=['accuracy'])\n",
        "\n",
        "print(model.summary())\n",
        "\n",
        "print(\"\\n\\n\")\n",
        "\n",
        "model.fit(x_train, y_train, validation_data=(x_test, y_test), epochs=EPOCHS, batch_size=BACTCH_SIZE, verbose=2)\n",
        "\n",
        "scores = model.evaluate(x_test, y_test, verbose=0)\n",
        "\n",
        "print('Test Loss', scores[0])\n",
        "\n",
        "print ('Test Accuracy:', scores[1])\n"
      ],
      "execution_count": 17,
      "outputs": [
        {
          "output_type": "stream",
          "text": [
            "_________________________________________________________________\n",
            "Layer (type)                 Output Shape              Param #   \n",
            "=================================================================\n",
            "conv2d_5 (Conv2D)            (None, 24, 24, 32)        832       \n",
            "_________________________________________________________________\n",
            "conv2d_6 (Conv2D)            (None, 20, 20, 64)        51264     \n",
            "_________________________________________________________________\n",
            "max_pooling2d_3 (MaxPooling2 (None, 10, 10, 64)        0         \n",
            "_________________________________________________________________\n",
            "dropout_3 (Dropout)          (None, 10, 10, 64)        0         \n",
            "_________________________________________________________________\n",
            "flatten_3 (Flatten)          (None, 6400)              0         \n",
            "_________________________________________________________________\n",
            "dense_4 (Dense)              (None, 128)               819328    \n",
            "_________________________________________________________________\n",
            "dense_5 (Dense)              (None, 10)                1290      \n",
            "=================================================================\n",
            "Total params: 872,714\n",
            "Trainable params: 872,714\n",
            "Non-trainable params: 0\n",
            "_________________________________________________________________\n",
            "None\n",
            "\n",
            "\n",
            "\n"
          ],
          "name": "stdout"
        },
        {
          "output_type": "error",
          "ename": "NameError",
          "evalue": "ignored",
          "traceback": [
            "\u001b[0;31m---------------------------------------------------------------------------\u001b[0m",
            "\u001b[0;31mNameError\u001b[0m                                 Traceback (most recent call last)",
            "\u001b[0;32m<ipython-input-17-a66fff55e655>\u001b[0m in \u001b[0;36m<module>\u001b[0;34m()\u001b[0m\n\u001b[1;32m     20\u001b[0m \u001b[0mprint\u001b[0m\u001b[0;34m(\u001b[0m\u001b[0;34m\"\\n\\n\"\u001b[0m\u001b[0;34m)\u001b[0m\u001b[0;34m\u001b[0m\u001b[0;34m\u001b[0m\u001b[0m\n\u001b[1;32m     21\u001b[0m \u001b[0;34m\u001b[0m\u001b[0m\n\u001b[0;32m---> 22\u001b[0;31m \u001b[0mmodel\u001b[0m\u001b[0;34m.\u001b[0m\u001b[0mfit\u001b[0m\u001b[0;34m(\u001b[0m\u001b[0mx_train\u001b[0m\u001b[0;34m,\u001b[0m \u001b[0my_train\u001b[0m\u001b[0;34m,\u001b[0m \u001b[0mvalidation_data\u001b[0m\u001b[0;34m=\u001b[0m\u001b[0;34m(\u001b[0m\u001b[0mx_test\u001b[0m\u001b[0;34m,\u001b[0m \u001b[0my_test\u001b[0m\u001b[0;34m)\u001b[0m\u001b[0;34m,\u001b[0m \u001b[0mepochs\u001b[0m\u001b[0;34m=\u001b[0m\u001b[0mEPOCHS\u001b[0m\u001b[0;34m,\u001b[0m \u001b[0mbatch_size\u001b[0m\u001b[0;34m=\u001b[0m\u001b[0mBACTCH_SIZE\u001b[0m\u001b[0;34m,\u001b[0m \u001b[0mverbose\u001b[0m\u001b[0;34m=\u001b[0m\u001b[0;36m2\u001b[0m\u001b[0;34m)\u001b[0m\u001b[0;34m\u001b[0m\u001b[0;34m\u001b[0m\u001b[0m\n\u001b[0m\u001b[1;32m     23\u001b[0m \u001b[0;34m\u001b[0m\u001b[0m\n\u001b[1;32m     24\u001b[0m \u001b[0mscores\u001b[0m \u001b[0;34m=\u001b[0m \u001b[0mmodel\u001b[0m\u001b[0;34m.\u001b[0m\u001b[0mevaluate\u001b[0m\u001b[0;34m(\u001b[0m\u001b[0mx_test\u001b[0m\u001b[0;34m,\u001b[0m \u001b[0my_test\u001b[0m\u001b[0;34m,\u001b[0m \u001b[0mverbose\u001b[0m\u001b[0;34m=\u001b[0m\u001b[0;36m0\u001b[0m\u001b[0;34m)\u001b[0m\u001b[0;34m\u001b[0m\u001b[0;34m\u001b[0m\u001b[0m\n",
            "\u001b[0;31mNameError\u001b[0m: name 'BACTCH_SIZE' is not defined"
          ]
        }
      ]
    }
  ]
}